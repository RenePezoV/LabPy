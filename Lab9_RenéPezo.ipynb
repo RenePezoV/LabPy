{
  "nbformat": 4,
  "nbformat_minor": 0,
  "metadata": {
    "colab": {
      "name": "Lab9_RenéPezo",
      "provenance": [],
      "collapsed_sections": [],
      "authorship_tag": "ABX9TyNrNkUSz9KdZo6LgDVEi5Vc",
      "include_colab_link": true
    },
    "kernelspec": {
      "name": "python3",
      "display_name": "Python 3"
    },
    "language_info": {
      "name": "python"
    }
  },
  "cells": [
    {
      "cell_type": "markdown",
      "metadata": {
        "id": "view-in-github",
        "colab_type": "text"
      },
      "source": [
        "<a href=\"https://colab.research.google.com/github/RenePezoV/LabPy/blob/main/Lab9_Ren%C3%A9Pezo.ipynb\" target=\"_parent\"><img src=\"https://colab.research.google.com/assets/colab-badge.svg\" alt=\"Open In Colab\"/></a>"
      ]
    },
    {
      "cell_type": "code",
      "metadata": {
        "colab": {
          "base_uri": "https://localhost:8080/"
        },
        "id": "W5CR4oA0bSqB",
        "outputId": "f0e385c8-bd44-4839-a34c-8a8247e3994e"
      },
      "source": [
        "def fibonacci(n):\n",
        "    p=0\n",
        "    q=1\n",
        "    if n==1:\n",
        "        return p\n",
        "    elif n==2:\n",
        "        return q\n",
        "    else:\n",
        "        while n>2:\n",
        "            r=p+q\n",
        "            p=q\n",
        "            q=r\n",
        "            n=n-1\n",
        "    return r\n",
        "\n",
        "x=int(input('Ingrese valor: '))\n",
        "while x<=0:\n",
        "    x=int(input('Ingrese valor: '))\n",
        "f=fibonacci(x)\n",
        "print(f)"
      ],
      "execution_count": null,
      "outputs": [
        {
          "output_type": "stream",
          "text": [
            "Ingrese valor: 5\n",
            "3\n"
          ],
          "name": "stdout"
        }
      ]
    },
    {
      "cell_type": "code",
      "metadata": {
        "colab": {
          "base_uri": "https://localhost:8080/"
        },
        "id": "rRbQ0VZbbitY",
        "outputId": "4c49e749-dc33-41f1-a64b-c520f59dee1e"
      },
      "source": [
        "L=[]\n",
        "for i in range(20):\n",
        "    L.append(fibonacci(i+1))\n",
        "print(L)"
      ],
      "execution_count": null,
      "outputs": [
        {
          "output_type": "stream",
          "text": [
            "[0, 1, 1, 2, 3, 5, 8, 13, 21, 34, 55, 89, 144, 233, 377, 610, 987, 1597, 2584, 4181]\n"
          ],
          "name": "stdout"
        }
      ]
    },
    {
      "cell_type": "code",
      "metadata": {
        "colab": {
          "base_uri": "https://localhost:8080/"
        },
        "id": "FgaTQBbjbpS-",
        "outputId": "46b0456b-7448-4f17-d0c7-9c61737587b4"
      },
      "source": [
        "### Problema 1\n",
        "def fibonacci(n):\n",
        "    p=0\n",
        "    q=1\n",
        "    if n==1:\n",
        "        return p\n",
        "    elif n==2:\n",
        "        return q\n",
        "    else:\n",
        "        while n>2:\n",
        "            r=p+q\n",
        "            p=q\n",
        "            q=r\n",
        "            n=n-1\n",
        "    return r\n",
        "def leeyvalida(x,y):\n",
        "    n=int(input(y))\n",
        "    while n<x:\n",
        "        n=int(input(y))\n",
        "    return n\n",
        "def generaFibonaccisPares(z):\n",
        "    c=0\n",
        "    L=[]\n",
        "    i=2\n",
        "    while c<z:\n",
        "        f=fibonacci(i)\n",
        "        if f%2==0:\n",
        "            L.append(f)\n",
        "            c+=1\n",
        "        i+=1\n",
        "    print(L)\n",
        "### programa principal\n",
        "M=leeyvalida(1,'M=')\n",
        "generaFibonaccisPares(M)\n",
        "### fin"
      ],
      "execution_count": null,
      "outputs": [
        {
          "output_type": "stream",
          "text": [
            "M=10\n",
            "[2, 8, 34, 144, 610, 2584, 10946, 46368, 196418, 832040]\n"
          ],
          "name": "stdout"
        }
      ]
    },
    {
      "cell_type": "code",
      "metadata": {
        "colab": {
          "base_uri": "https://localhost:8080/"
        },
        "id": "QuyPrWfQbwuz",
        "outputId": "9344ad18-2852-4365-c68d-91c52c006022"
      },
      "source": [
        "# o viendo secuencia de pares\n",
        "def generaFibonaccisPares(z):\n",
        "    c=0\n",
        "    L=[]\n",
        "    i=4\n",
        "    while c<z:\n",
        "        L.append(fibonacci(i))\n",
        "        c+=1\n",
        "        i+=3\n",
        "    print(L)\n",
        "M=leeyvalida(1,'M=')\n",
        "generaFibonaccisPares(M)"
      ],
      "execution_count": null,
      "outputs": [
        {
          "output_type": "stream",
          "text": [
            "M=10\n",
            "[2, 8, 34, 144, 610, 2584, 10946, 46368, 196418, 832040]\n"
          ],
          "name": "stdout"
        }
      ]
    },
    {
      "cell_type": "code",
      "metadata": {
        "colab": {
          "base_uri": "https://localhost:8080/"
        },
        "id": "csMGKodocSMr",
        "outputId": "b5ab8c7e-f8c9-4f3c-f7b8-a1ade79c2f67"
      },
      "source": [
        "l='holachao'\n",
        "print(l.split('a'))\n",
        "print(l)\n",
        "L=l.split('a')\n",
        "rep=l.count('a')\n",
        "for i in range(rep+1):\n",
        "    print(L[i])"
      ],
      "execution_count": null,
      "outputs": [
        {
          "output_type": "stream",
          "text": [
            "['hol', 'ch', 'o']\n",
            "holachao\n",
            "hol\n",
            "ch\n",
            "o\n"
          ],
          "name": "stdout"
        }
      ]
    },
    {
      "cell_type": "code",
      "metadata": {
        "colab": {
          "base_uri": "https://localhost:8080/"
        },
        "id": "LOY1QWTfcfh_",
        "outputId": "55fd4213-cf4b-4129-92a0-bb3c5eb0280e"
      },
      "source": [
        "c='hola'\n",
        "for i in c:\n",
        "    if i in c:\n",
        "        print(1)\n",
        "print(c)\n",
        "c='c'+c[0]+c[3]+c[1]\n",
        "print(c)"
      ],
      "execution_count": null,
      "outputs": [
        {
          "output_type": "stream",
          "text": [
            "1\n",
            "1\n",
            "1\n",
            "1\n",
            "hola\n",
            "chao\n"
          ],
          "name": "stdout"
        }
      ]
    },
    {
      "cell_type": "code",
      "metadata": {
        "colab": {
          "base_uri": "https://localhost:8080/"
        },
        "id": "PDRnTs7ycoCg",
        "outputId": "1227542d-c755-42fc-ed09-95192ed5d3cb"
      },
      "source": [
        "b='GCTTTCGACGAT';v='TCGA'\n",
        "rep=b.count(v)\n",
        "B=b.split(v)\n",
        "aux=''\n",
        "for i in range(rep+1):\n",
        "    aux=aux+B[i]\n",
        "    b=aux\n",
        "print(b)"
      ],
      "execution_count": null,
      "outputs": [
        {
          "output_type": "stream",
          "text": [
            "GCTTCGAT\n"
          ],
          "name": "stdout"
        }
      ]
    },
    {
      "cell_type": "code",
      "metadata": {
        "colab": {
          "base_uri": "https://localhost:8080/"
        },
        "id": "QN-ffSikcsDn",
        "outputId": "49dc7843-141b-4b87-af06-d32113bfa466"
      },
      "source": [
        "### Problema 4\n",
        "\n",
        "def valida(n):\n",
        "    L='ACGT'\n",
        "    x=str(input(n))\n",
        "    v=False\n",
        "    for i in x:\n",
        "        if i not in L:\n",
        "            v=True\n",
        "            break\n",
        "    le=len(x)\n",
        "    while v or le<1 or le>100:\n",
        "        x=str(input(n))\n",
        "        v=False\n",
        "        for i in x:\n",
        "            if i not in L:\n",
        "                v=True\n",
        "                break\n",
        "    return(x)\n",
        "\n",
        "def destruir(b,v):\n",
        "    while True:\n",
        "        rep=b.count(v)\n",
        "        if rep==0:\n",
        "            return b\n",
        "        B=b.split(v)\n",
        "        aux=''\n",
        "        for i in range(rep+1):\n",
        "            aux=aux+B[i]\n",
        "        b=aux\n",
        "        \n",
        "\n",
        "b=valida('Ingrese cadena de bacteria: ')\n",
        "v=valida('Ingrese cadena de virus: ')\n",
        "bres=destruir(b,v)\n",
        "p=(len(bres)*100)/len(b)\n",
        "p='('+str(p)+'%)'\n",
        "print('Bacteria:',bres,p)"
      ],
      "execution_count": null,
      "outputs": [
        {
          "output_type": "stream",
          "text": [
            "Ingrese cadena de bacteria: acgtc\n",
            "Ingrese cadena de bacteria: ATGATCATCGATCCATCGATAATCTCCC\n",
            "Ingrese cadena de virus: ATC\n",
            "Bacteria: ATGGCGC (25.0%)\n"
          ],
          "name": "stdout"
        }
      ]
    }
  ]
}